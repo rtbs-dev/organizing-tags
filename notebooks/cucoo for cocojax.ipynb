{
 "cells": [
  {
   "cell_type": "code",
   "execution_count": 1,
   "metadata": {},
   "outputs": [
    {
     "name": "stdout",
     "output_type": "stream",
     "text": [
      "hi\n"
     ]
    }
   ],
   "source": [
    "['hi'] |*> print"
   ]
  },
  {
   "cell_type": "code",
   "execution_count": 214,
   "metadata": {},
   "outputs": [],
   "source": [
    "from jax import grad, jit, vmap\n",
    "import jax.numpy as np\n",
    "from jax.lax import dynamic_slice"
   ]
  },
  {
   "cell_type": "code",
   "execution_count": 212,
   "metadata": {},
   "outputs": [],
   "source": [
    "\n",
    "\n",
    "# i,j = (np.ones((N,N)) \n",
    "#  |> np.triu \n",
    "#  |> np.tile$(?,(N,1,1))\n",
    "#  |> np.transpose$\n",
    "#  |> map$(?, [(2,0,1), (2,1,0)])\n",
    "# )\n",
    "\n",
    "\n",
    "def QR_mask(N, n):\n",
    "    \"\"\"censored random-walk mask\n",
    "    \n",
    "    N: states in transition matrix\n",
    "    n: length of walk \n",
    "    \"\"\"\n",
    "    i,j = (np.ones((N,N))   # ones, like P\n",
    "     |> np.triu             # make upper-triangular\n",
    "     |> np.tile$(?,(N,1,1)) # make into upper-tri cube\n",
    "     |> np.transpose$       # rotate cube\n",
    "     |> map$(?, [(2,0,1), (2,1,0)])  # left->right, top->down\n",
    "    )\n",
    "    q = (i*j)      # growing square (upper left)\n",
    "    r = ((1-i)*j)  # shrinking rectangle (upper right)\n",
    "    return  q[:n],r[:n]  # oly need up to walk length\n",
    "\n",
    "\n",
    "N = 20\n",
    "qrmask = QR_mask$(N)  # hold transition matrix constant\n",
    "\n",
    "normalize = A -> A/A.sum(axis=1)[:,None]\n",
    "\n",
    "def likelihood(P, m):\n",
    "    n = len(m) - 1  # walk length\n",
    "    N = P.shape[0]\n",
    "#     q_ma, r_ma = qrmask(n)\n",
    "    \n",
    "    # now we have to sort P to make masks work\n",
    "    # --> sort by RW-order + remaining nodes\n",
    "    # index = np.concatenate([m, np.delete(np.arange(N, ))])\n",
    "    index = list(m) + list(set(range(10)) - set(m))\n",
    "    \n",
    "    q, r = (P[index][:index]\n",
    "        |> np.exp\n",
    "        |> normalize\n",
    "        |> map((*)$, qrmask(n))\n",
    "    )\n",
    "    p = (np.eye(N) - q\n",
    "        |>np.linalg.inv$(?, r)\n",
    "    )\n",
    "    lik = (p\n",
    "        .diagonal()\n",
    "        .diagonal(offset=-1)\n",
    "        .log().sum()\n",
    "    )\n",
    "    return lik\n",
    "\n",
    "\n",
    "\n",
    "# n = 4\n",
    "\n",
    "# q_mask = (i*j)[:n]\n",
    "# r_mask = ((1-i)*j)[:n] #-\\\n",
    "#     np.fliplr((i*j)[n])*(j[:n])\n",
    "\n",
    "# qrmask(4)"
   ]
  },
  {
   "cell_type": "code",
   "execution_count": 213,
   "metadata": {},
   "outputs": [
    {
     "ename": "TypeError",
     "evalue": "<class 'list'> is not a valid Jax type",
     "output_type": "error",
     "traceback": [
      "\u001b[0;31m---------------------------------------------------------------------------\u001b[0m",
      "\u001b[0;31mKeyError\u001b[0m                                  Traceback (most recent call last)",
      "\u001b[0;32m~/miniconda3/envs/eng-net/lib/python3.6/site-packages/jax/core.py\u001b[0m in \u001b[0;36mconcrete_aval\u001b[0;34m(x)\u001b[0m\n\u001b[1;32m    508\u001b[0m   \u001b[0;32mtry\u001b[0m\u001b[0;34m:\u001b[0m\u001b[0;34m\u001b[0m\u001b[0;34m\u001b[0m\u001b[0m\n\u001b[0;32m--> 509\u001b[0;31m     \u001b[0;32mreturn\u001b[0m \u001b[0mpytype_aval_mappings\u001b[0m\u001b[0;34m[\u001b[0m\u001b[0mtype\u001b[0m\u001b[0;34m(\u001b[0m\u001b[0mx\u001b[0m\u001b[0;34m)\u001b[0m\u001b[0;34m]\u001b[0m\u001b[0;34m(\u001b[0m\u001b[0mx\u001b[0m\u001b[0;34m)\u001b[0m\u001b[0;34m\u001b[0m\u001b[0;34m\u001b[0m\u001b[0m\n\u001b[0m\u001b[1;32m    510\u001b[0m   \u001b[0;32mexcept\u001b[0m \u001b[0mKeyError\u001b[0m\u001b[0;34m:\u001b[0m\u001b[0;34m\u001b[0m\u001b[0;34m\u001b[0m\u001b[0m\n",
      "\u001b[0;31mKeyError\u001b[0m: <class 'list'>",
      "\nDuring handling of the above exception, another exception occurred:\n",
      "\u001b[0;31mTypeError\u001b[0m                                 Traceback (most recent call last)",
      "\u001b[0;32m<ipython-input-213-9c9c9defb8b9>\u001b[0m in \u001b[0;36m<module>\u001b[0;34m\u001b[0m\n\u001b[1;32m      7\u001b[0m \u001b[0mT\u001b[0m \u001b[0;34m=\u001b[0m \u001b[0mnp\u001b[0m\u001b[0;34m.\u001b[0m\u001b[0marray\u001b[0m\u001b[0;34m(\u001b[0m\u001b[0;34m[\u001b[0m\u001b[0;34m[\u001b[0m\u001b[0;36m0.9\u001b[0m\u001b[0;34m,\u001b[0m \u001b[0;36m0.1\u001b[0m\u001b[0;34m]\u001b[0m\u001b[0;34m,\u001b[0m \u001b[0;34m[\u001b[0m\u001b[0;36m0.\u001b[0m\u001b[0;34m,\u001b[0m \u001b[0;36m1.0\u001b[0m\u001b[0;34m]\u001b[0m\u001b[0;34m]\u001b[0m\u001b[0;34m)\u001b[0m  \u001b[0;31m# line 1: T = np.array([[0.9, 0.1],\u001b[0m\u001b[0;34m\u001b[0m\u001b[0;34m\u001b[0m\u001b[0m\n\u001b[1;32m      8\u001b[0m \u001b[0mm\u001b[0m \u001b[0;34m=\u001b[0m \u001b[0;34m[\u001b[0m\u001b[0;36m0\u001b[0m\u001b[0;34m,\u001b[0m \u001b[0;36m1\u001b[0m\u001b[0;34m]\u001b[0m  \u001b[0;31m# line 3: m = [0,1]\u001b[0m\u001b[0;34m\u001b[0m\u001b[0;34m\u001b[0m\u001b[0m\n\u001b[0;32m----> 9\u001b[0;31m \u001b[0mlikelihood\u001b[0m\u001b[0;34m(\u001b[0m\u001b[0mT\u001b[0m\u001b[0;34m,\u001b[0m \u001b[0mm\u001b[0m\u001b[0;34m)\u001b[0m  \u001b[0;31m# line 4: likelihood(T, m)\u001b[0m\u001b[0;34m\u001b[0m\u001b[0;34m\u001b[0m\u001b[0m\n\u001b[0m",
      "\u001b[0;32m<ipython-input-212-a37a9bb7b2e9>\u001b[0m in \u001b[0;36mlikelihood\u001b[0;34m(P, m)\u001b[0m\n\u001b[1;32m     42\u001b[0m     \u001b[0mindex\u001b[0m \u001b[0;34m=\u001b[0m \u001b[0mlist\u001b[0m\u001b[0;34m(\u001b[0m\u001b[0mm\u001b[0m\u001b[0;34m)\u001b[0m \u001b[0;34m+\u001b[0m \u001b[0mlist\u001b[0m\u001b[0;34m(\u001b[0m\u001b[0mset\u001b[0m\u001b[0;34m(\u001b[0m\u001b[0mrange\u001b[0m\u001b[0;34m(\u001b[0m\u001b[0;36m10\u001b[0m\u001b[0;34m)\u001b[0m\u001b[0;34m)\u001b[0m \u001b[0;34m-\u001b[0m \u001b[0mset\u001b[0m\u001b[0;34m(\u001b[0m\u001b[0mm\u001b[0m\u001b[0;34m)\u001b[0m\u001b[0;34m)\u001b[0m  \u001b[0;31m# line 41:     index = list(m) + list(set(range(10)) - set(m))\u001b[0m\u001b[0;34m\u001b[0m\u001b[0;34m\u001b[0m\u001b[0m\n\u001b[1;32m     43\u001b[0m \u001b[0;34m\u001b[0m\u001b[0m\n\u001b[0;32m---> 44\u001b[0;31m     \u001b[0mq\u001b[0m\u001b[0;34m,\u001b[0m \u001b[0mr\u001b[0m \u001b[0;34m=\u001b[0m \u001b[0;34m(\u001b[0m\u001b[0;34m(\u001b[0m\u001b[0mmap\u001b[0m\u001b[0;34m(\u001b[0m\u001b[0m_coconut\u001b[0m\u001b[0;34m.\u001b[0m\u001b[0mfunctools\u001b[0m\u001b[0;34m.\u001b[0m\u001b[0mpartial\u001b[0m\u001b[0;34m(\u001b[0m\u001b[0m_coconut\u001b[0m\u001b[0;34m.\u001b[0m\u001b[0mfunctools\u001b[0m\u001b[0;34m.\u001b[0m\u001b[0mpartial\u001b[0m\u001b[0;34m,\u001b[0m \u001b[0m_coconut\u001b[0m\u001b[0;34m.\u001b[0m\u001b[0moperator\u001b[0m\u001b[0;34m.\u001b[0m\u001b[0mmul\u001b[0m\u001b[0;34m)\u001b[0m\u001b[0;34m,\u001b[0m \u001b[0mqrmask\u001b[0m\u001b[0;34m(\u001b[0m\u001b[0mn\u001b[0m\u001b[0;34m)\u001b[0m\u001b[0;34m)\u001b[0m\u001b[0;34m)\u001b[0m\u001b[0;34m(\u001b[0m\u001b[0;34m(\u001b[0m\u001b[0mnormalize\u001b[0m\u001b[0;34m)\u001b[0m\u001b[0;34m(\u001b[0m\u001b[0;34m(\u001b[0m\u001b[0mnp\u001b[0m\u001b[0;34m.\u001b[0m\u001b[0mexp\u001b[0m\u001b[0;34m)\u001b[0m\u001b[0;34m(\u001b[0m\u001b[0mP\u001b[0m\u001b[0;34m[\u001b[0m\u001b[0mindex\u001b[0m\u001b[0;34m]\u001b[0m\u001b[0;34m[\u001b[0m\u001b[0;34m:\u001b[0m\u001b[0mindex\u001b[0m\u001b[0;34m]\u001b[0m\u001b[0;34m)\u001b[0m\u001b[0;34m)\u001b[0m\u001b[0;34m)\u001b[0m\u001b[0;34m)\u001b[0m  \u001b[0;31m# line 43:     q, r = (P[index][:index]\u001b[0m\u001b[0;34m\u001b[0m\u001b[0;34m\u001b[0m\u001b[0m\n\u001b[0m\u001b[1;32m     45\u001b[0m     \u001b[0mp\u001b[0m \u001b[0;34m=\u001b[0m \u001b[0;34m(\u001b[0m\u001b[0;34m(\u001b[0m\u001b[0m_coconut_partial\u001b[0m\u001b[0;34m(\u001b[0m\u001b[0mnp\u001b[0m\u001b[0;34m.\u001b[0m\u001b[0mlinalg\u001b[0m\u001b[0;34m.\u001b[0m\u001b[0minv\u001b[0m\u001b[0;34m,\u001b[0m \u001b[0;34m{\u001b[0m\u001b[0;36m1\u001b[0m\u001b[0;34m:\u001b[0m \u001b[0mr\u001b[0m\u001b[0;34m}\u001b[0m\u001b[0;34m,\u001b[0m \u001b[0;36m2\u001b[0m\u001b[0;34m)\u001b[0m\u001b[0;34m)\u001b[0m\u001b[0;34m(\u001b[0m\u001b[0mnp\u001b[0m\u001b[0;34m.\u001b[0m\u001b[0meye\u001b[0m\u001b[0;34m(\u001b[0m\u001b[0mN\u001b[0m\u001b[0;34m)\u001b[0m \u001b[0;34m-\u001b[0m \u001b[0mq\u001b[0m\u001b[0;34m)\u001b[0m\u001b[0;34m)\u001b[0m  \u001b[0;31m# line 48:     p = (np.eye(N) - q\u001b[0m\u001b[0;34m\u001b[0m\u001b[0;34m\u001b[0m\u001b[0m\n\u001b[1;32m     46\u001b[0m     \u001b[0mlik\u001b[0m \u001b[0;34m=\u001b[0m \u001b[0;34m(\u001b[0m\u001b[0mp\u001b[0m\u001b[0;34m.\u001b[0m\u001b[0mdiagonal\u001b[0m\u001b[0;34m(\u001b[0m\u001b[0;34m)\u001b[0m\u001b[0;34m.\u001b[0m\u001b[0mdiagonal\u001b[0m\u001b[0;34m(\u001b[0m\u001b[0moffset\u001b[0m\u001b[0;34m=\u001b[0m\u001b[0;34m-\u001b[0m\u001b[0;36m1\u001b[0m\u001b[0;34m)\u001b[0m\u001b[0;34m.\u001b[0m\u001b[0mlog\u001b[0m\u001b[0;34m(\u001b[0m\u001b[0;34m)\u001b[0m\u001b[0;34m.\u001b[0m\u001b[0msum\u001b[0m\u001b[0;34m(\u001b[0m\u001b[0;34m)\u001b[0m\u001b[0;34m)\u001b[0m  \u001b[0;31m# line 51:     lik = (p\u001b[0m\u001b[0;34m\u001b[0m\u001b[0;34m\u001b[0m\u001b[0m\n",
      "\u001b[0;32m~/miniconda3/envs/eng-net/lib/python3.6/site-packages/jax/numpy/lax_numpy.py\u001b[0m in \u001b[0;36m_rewriting_take\u001b[0;34m(arr, idx, axis)\u001b[0m\n\u001b[1;32m   2082\u001b[0m   \u001b[0;32melif\u001b[0m \u001b[0misinstance\u001b[0m\u001b[0;34m(\u001b[0m\u001b[0midx\u001b[0m\u001b[0;34m,\u001b[0m \u001b[0mslice\u001b[0m\u001b[0;34m)\u001b[0m\u001b[0;34m:\u001b[0m\u001b[0;34m\u001b[0m\u001b[0;34m\u001b[0m\u001b[0m\n\u001b[1;32m   2083\u001b[0m     if not _all(elt is None or type(core.get_aval(elt)) is ConcreteArray\n\u001b[0;32m-> 2084\u001b[0;31m                 for elt in (idx.start, idx.stop, idx.step)):\n\u001b[0m\u001b[1;32m   2085\u001b[0m       msg = (\"Array slice indices must have static start/stop/step to be used \"\n\u001b[1;32m   2086\u001b[0m              \"with Numpy indexing syntax. Try lax.dynamic_slice instead.\")\n",
      "\u001b[0;32m~/miniconda3/envs/eng-net/lib/python3.6/site-packages/jax/numpy/lax_numpy.py\u001b[0m in \u001b[0;36m<genexpr>\u001b[0;34m(.0)\u001b[0m\n\u001b[1;32m   2082\u001b[0m   \u001b[0;32melif\u001b[0m \u001b[0misinstance\u001b[0m\u001b[0;34m(\u001b[0m\u001b[0midx\u001b[0m\u001b[0;34m,\u001b[0m \u001b[0mslice\u001b[0m\u001b[0;34m)\u001b[0m\u001b[0;34m:\u001b[0m\u001b[0;34m\u001b[0m\u001b[0;34m\u001b[0m\u001b[0m\n\u001b[1;32m   2083\u001b[0m     if not _all(elt is None or type(core.get_aval(elt)) is ConcreteArray\n\u001b[0;32m-> 2084\u001b[0;31m                 for elt in (idx.start, idx.stop, idx.step)):\n\u001b[0m\u001b[1;32m   2085\u001b[0m       msg = (\"Array slice indices must have static start/stop/step to be used \"\n\u001b[1;32m   2086\u001b[0m              \"with Numpy indexing syntax. Try lax.dynamic_slice instead.\")\n",
      "\u001b[0;32m~/miniconda3/envs/eng-net/lib/python3.6/site-packages/jax/core.py\u001b[0m in \u001b[0;36mget_aval\u001b[0;34m(x)\u001b[0m\n\u001b[1;32m    516\u001b[0m     \u001b[0;32mreturn\u001b[0m \u001b[0mx\u001b[0m\u001b[0;34m.\u001b[0m\u001b[0maval\u001b[0m\u001b[0;34m\u001b[0m\u001b[0;34m\u001b[0m\u001b[0m\n\u001b[1;32m    517\u001b[0m   \u001b[0;32melse\u001b[0m\u001b[0;34m:\u001b[0m\u001b[0;34m\u001b[0m\u001b[0;34m\u001b[0m\u001b[0m\n\u001b[0;32m--> 518\u001b[0;31m     \u001b[0;32mreturn\u001b[0m \u001b[0mconcrete_aval\u001b[0m\u001b[0;34m(\u001b[0m\u001b[0mx\u001b[0m\u001b[0;34m)\u001b[0m\u001b[0;34m\u001b[0m\u001b[0;34m\u001b[0m\u001b[0m\n\u001b[0m\u001b[1;32m    519\u001b[0m \u001b[0;34m\u001b[0m\u001b[0m\n\u001b[1;32m    520\u001b[0m \u001b[0;34m\u001b[0m\u001b[0m\n",
      "\u001b[0;32m~/miniconda3/envs/eng-net/lib/python3.6/site-packages/jax/core.py\u001b[0m in \u001b[0;36mconcrete_aval\u001b[0;34m(x)\u001b[0m\n\u001b[1;32m    509\u001b[0m     \u001b[0;32mreturn\u001b[0m \u001b[0mpytype_aval_mappings\u001b[0m\u001b[0;34m[\u001b[0m\u001b[0mtype\u001b[0m\u001b[0;34m(\u001b[0m\u001b[0mx\u001b[0m\u001b[0;34m)\u001b[0m\u001b[0;34m]\u001b[0m\u001b[0;34m(\u001b[0m\u001b[0mx\u001b[0m\u001b[0;34m)\u001b[0m\u001b[0;34m\u001b[0m\u001b[0;34m\u001b[0m\u001b[0m\n\u001b[1;32m    510\u001b[0m   \u001b[0;32mexcept\u001b[0m \u001b[0mKeyError\u001b[0m\u001b[0;34m:\u001b[0m\u001b[0;34m\u001b[0m\u001b[0;34m\u001b[0m\u001b[0m\n\u001b[0;32m--> 511\u001b[0;31m     \u001b[0;32mraise\u001b[0m \u001b[0mTypeError\u001b[0m\u001b[0;34m(\u001b[0m\u001b[0;34m\"{} is not a valid Jax type\"\u001b[0m\u001b[0;34m.\u001b[0m\u001b[0mformat\u001b[0m\u001b[0;34m(\u001b[0m\u001b[0mtype\u001b[0m\u001b[0;34m(\u001b[0m\u001b[0mx\u001b[0m\u001b[0;34m)\u001b[0m\u001b[0;34m)\u001b[0m\u001b[0;34m)\u001b[0m\u001b[0;34m\u001b[0m\u001b[0;34m\u001b[0m\u001b[0m\n\u001b[0m\u001b[1;32m    512\u001b[0m \u001b[0;34m\u001b[0m\u001b[0m\n\u001b[1;32m    513\u001b[0m \u001b[0;34m\u001b[0m\u001b[0m\n",
      "\u001b[0;31mTypeError\u001b[0m: <class 'list'> is not a valid Jax type"
     ]
    }
   ],
   "source": [
    "T = np.array([[0.9, 0.1],\n",
    "              [0.,  1.0]])\n",
    "m = [0,1]\n",
    "likelihood(T, m)\n"
   ]
  },
  {
   "cell_type": "code",
   "execution_count": 143,
   "metadata": {},
   "outputs": [
    {
     "name": "stdout",
     "output_type": "stream",
     "text": [
      "0.0065882205963134766\n",
      "0.003113985061645508\n"
     ]
    }
   ],
   "source": [
    "# ((1-i)*j)[:n] - np.fliplr((i*j)[n])*j[:n]\n",
    "\n",
    "import time\n",
    "\n",
    "t = time.time()\n",
    "qrmask(10)\n",
    "print(time.time() - t)\n",
    "t = time.time()\n",
    "qrmask(11)\n",
    "print(time.time() - t)\n",
    "\n",
    "\n",
    "# qrmask(10)\n",
    "# QR_mask(10)"
   ]
  },
  {
   "cell_type": "code",
   "execution_count": 203,
   "metadata": {},
   "outputs": [
    {
     "data": {
      "text/plain": [
       "DeviceArray([[0.2       , 0.2       , 0.2       , 0.2       , 0.2       ],\n",
       "             [0.        , 0.25      , 0.25      , 0.25      , 0.25      ],\n",
       "             [0.        , 0.        , 0.33333334, 0.33333334, 0.33333334],\n",
       "             [0.        , 0.        , 0.        , 0.5       , 0.5       ],\n",
       "             [0.        , 0.        , 0.        , 0.        , 1.        ]],\n",
       "            dtype=float32)"
      ]
     },
     "execution_count": 203,
     "metadata": {},
     "output_type": "execute_result"
    }
   ],
   "source": [
    "\n",
    "np.triu(np.ones(5))/(np.triu(np.ones(5))).sum(axis=1)[:,None]"
   ]
  },
  {
   "cell_type": "code",
   "execution_count": null,
   "metadata": {},
   "outputs": [],
   "source": [
    "def P_i(T, a, idx):\n",
    "    \"\"\" Probability of absorbtions given an observed chain:\n",
    "\n",
    "    We need to partition the transition matrix\n",
    "        $$ T =\n",
    "        \\begin{pmatrix}\n",
    "         Q & R \\\\\n",
    "         0 & I\n",
    "        \\end{pmatrix}\n",
    "        $$\n",
    "    where:\n",
    "        $Q$: the non-absorbing transitions,\n",
    "        $R$: non-absorbing to absorbing transitions\n",
    "    Then, probability of being absorbed is given as\n",
    "        $$P = (I-Q)^{-1} R$$\n",
    "\n",
    "    In this case, we only want the probability of transitioning from the\n",
    "    most recent state to the current absorbing state.\n",
    "    \"\"\"\n",
    "\n",
    "    a_trans = np.array(a)[0:idx]  # visited\n",
    "    a_absrb = np.array(a)[idx:len(a) - idx]  # not visited\n",
    "\n",
    "    Q = T[a_trans, :][:, a_trans]\n",
    "    R = T[a_trans, :][:, a_absrb]\n",
    "    I = np.identity(Q.shape[0])\n",
    "\n",
    "    P = np.dot(np.linalg.pinv(I-Q), R)\n",
    "\n",
    "    return P[-1, 0]  # ...from previous state (P[-1,:] by construction) into next\n",
    "\n",
    "\n",
    "def P_a(T, a):\n",
    "    \"\"\" Calculate the log-likelihood of a transition matrix $T$, given censored\n",
    "    observed INVITE sequence $a$.\n",
    "    \"\"\"\n",
    "\n",
    "    frontload_a = list(a) + list(set(range(T.shape[0])) - set(a))\n",
    "    like_i = partial(P_i, T, frontload_a)\n",
    "\n",
    "    return -1*np.sum([np.log(like_i(idx)) for idx in range(1, len(a)-1)])\n",
    "\n",
    "\n",
    "def _symmetrize(a):  # assumes 0-diags\n",
    "\n",
    "    bott = np.tril(a) + np.tril(a).T\n",
    "    top = np.triu(a) + np.triu(a).T\n",
    "    # return (bott+top)/2. + infs\n",
    "    return np.fmax(bott, top)\n",
    "\n",
    "\n",
    "def _softmax(a, axis=None):\n",
    "    a = a - a.max(axis=axis, keepdims=True)\n",
    "    infs = np.diag(a.shape[0] * [-np.inf])\n",
    "\n",
    "    y = np.exp(a + infs)\n",
    "    return y / y.sum(axis=axis, keepdims=True)\n",
    "\n",
    "\n",
    "def loss_i(m, idx, A, reg=1e-2):\n",
    "    \"\"\"Per-iteration objective function for use in ASGD\"\"\"\n",
    "\n",
    "    T = _softmax(_symmetrize(A), axis=1)\n",
    "\n",
    "    # for it in range(1, 4):  # 2x stochastic; Sinkhorn, 1964\n",
    "    #     T = _softmax(T + np.diag(A.shape[0]*[-np.inf]), axis=it % 2)\n",
    "\n",
    "    like = P_a(T, m[idx])\n",
    "    # penalty = (1. / len(m)) * np.linalg.norm(A)  # Frob-norm\n",
    "    penalty = (1. / len(m)) * np.abs(A).sum(axis=0).max()  # L1-norm\n",
    "\n",
    "    return like + reg*penalty\n"
   ]
  }
 ],
 "metadata": {
  "kernelspec": {
   "display_name": "Coconut",
   "language": "coconut",
   "name": "coconut"
  },
  "language_info": {
   "codemirror_mode": {
    "name": "python",
    "version": 3.6
   },
   "file_extension": ".coco",
   "mimetype": "text/x-python3",
   "name": "coconut",
   "pygments_lexer": "coconut"
  },
  "varInspector": {
   "cols": {
    "lenName": 16,
    "lenType": 16,
    "lenVar": 40
   },
   "kernels_config": {
    "python": {
     "delete_cmd_postfix": "",
     "delete_cmd_prefix": "del ",
     "library": "var_list.py",
     "varRefreshCmd": "print(var_dic_list())"
    },
    "r": {
     "delete_cmd_postfix": ") ",
     "delete_cmd_prefix": "rm(",
     "library": "var_list.r",
     "varRefreshCmd": "cat(var_dic_list()) "
    }
   },
   "types_to_exclude": [
    "module",
    "function",
    "builtin_function_or_method",
    "instance",
    "_Feature"
   ],
   "window_display": false
  }
 },
 "nbformat": 4,
 "nbformat_minor": 2
}
