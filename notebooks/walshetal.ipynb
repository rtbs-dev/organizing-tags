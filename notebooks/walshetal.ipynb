{
 "cells": [
  {
   "cell_type": "code",
   "execution_count": null,
   "metadata": {},
   "outputs": [],
   "source": [
    "import sys, os\n",
    "from pathlib import Path\n",
    "import random\n",
    "import networkx as nx\n",
    "import numpy as np\n",
    "import pandas as pd\n",
    "import matplotlib.pyplot as plt\n",
    "import seaborn as sns\n",
    "from cycler import cycler\n",
    "from textwrap import fill\n",
    "\n",
    "import utils.plot_utils as pu\n",
    "from src.models import CensoredRW, train\n",
    "from src.analysis import draw_G, test_multi, compare_mats, compare_pvr\n",
    "from src.invite import sample_censored\n",
    "\n",
    "from src.tools import cosine_model, markov_model, \n",
    "from src.tools import minmax, symmetrize, fill_diagonal, labeled_adj"
   ]
  },
  {
   "cell_type": "code",
   "execution_count": null,
   "metadata": {},
   "outputs": [],
   "source": [
    "%matplotlib inline\n",
    "%load_ext autoreload\n",
    "%autoreload 2"
   ]
  },
  {
   "cell_type": "code",
   "execution_count": 104,
   "metadata": {
    "code_folding": []
   },
   "outputs": [],
   "source": [
    "sys.path.insert(0, os.path.abspath('..'))\n",
    "\n",
    "pu.figure_setup()\n",
    "\n",
    "net_path = Path('..')/'data'/'network_models_shared'\n",
    "latex_path = Path('..')/'jmd19-latex'/'img'/'walshetal'\n",
    "latex_path.mkdir(parents=True, exist_ok=True)\n",
    "\n",
    "\n"
   ]
  },
  {
   "cell_type": "code",
   "execution_count": 258,
   "metadata": {},
   "outputs": [],
   "source": [
    "def get_struct(model):\n",
    "    struct = pd.read_excel(net_path/f'{model}_component_model.xlsx', index_col=0)\n",
    "    if model=='aircraft':\n",
    "        edgel = struct.stack().reset_index()\n",
    "        edgel = edgel[edgel[0]!=0]\n",
    "        edgel['level_0'] = (\n",
    "            edgel.level_0\n",
    "            .str.split(' ')\n",
    "            .str[:-1]\n",
    "            .str.join(' ')\n",
    "        )\n",
    "        edgel['level_1'] = (\n",
    "            edgel.level_1\n",
    "            .str.split(' ')\n",
    "            .str[:-1]\n",
    "            .str.join(' ')\n",
    "        )\n",
    "        struct = (\n",
    "            edgel\n",
    "            .groupby(['level_0', 'level_1'])\n",
    "            .sum().unstack()[0]\n",
    "            .fillna(0)\n",
    "        )\n",
    "        struct[struct>1.]=1\n",
    "    return struct\n",
    "\n",
    "def plot_ivt(G, pos, MWOs, title, txtpos=.5, colwidth=60):\n",
    "\n",
    "    palette = sns.color_palette(\"muted\", n_colors=len(MWOs)).as_hex()\n",
    "\n",
    "    plt.figure(figsize=pu.figsize(columns=2))\n",
    "\n",
    "    mwotxts =[ f'#{n+1} ' + fill(\n",
    "        f\"{[G.node[i]['item'] for i in a]}\", \n",
    "        width=60, subsequent_indent='      ' \n",
    "    ) for n, a in enumerate(MWOs)]\n",
    "\n",
    "    plt.text(txtpos,.75, 'Tagged MWOs',\n",
    "             fontsize=pu.font_size())\n",
    "\n",
    "    for n, a in enumerate(MWOs):\n",
    "        edgelist = [(a[n],a[n+1]) for n in range(len(a)-1)]\n",
    "        jump_edges = nx.draw_networkx_edges(\n",
    "            nx.DiGraph(G),\n",
    "            pos=pos, edgelist=edgelist, \n",
    "            width=2, \n",
    "            edge_color=palette[n], \n",
    "            label=f'MWO: {n}',\n",
    "            connectionstyle='arc3,rad=0.2',\n",
    "        )\n",
    "        [i.set_zorder(0) for i in jump_edges]\n",
    "\n",
    "        plt.text(txtpos,.6-.15*n, mwotxts[n],\n",
    "                color=palette[n], fontsize=pu.font_size())\n",
    "    draw_G(G, pos, node_size=20, withlabels=True,\n",
    "          font_size=pu.label_size(), font_family='serif',\n",
    "          title=model+\" (reduced)\")"
   ]
  },
  {
   "cell_type": "code",
   "execution_count": 210,
   "metadata": {},
   "outputs": [],
   "source": [
    "# model='aircraft'\n",
    "model='drivetrain'\n",
    "# model='bicycle'\n",
    "\n",
    "struct = get_struct(model)\n",
    "plt.spy(struct)\n",
    "print(struct.shape, f'{1-struct.sum().sum()/struct.shape[0]**2:.1%}')\n",
    "\n",
    "G = nx.from_pandas_adjacency(struct)  # build a graph\n",
    "G = nx.convert_node_labels_to_integers(G, label_attribute='item')\n",
    "\n",
    "pos = nx.layout.kamada_kawai_layout(G) # plotting layout\n",
    "A = nx.to_numpy_array(G)  # numpy adj. matrix representation"
   ]
  },
  {
   "cell_type": "code",
   "execution_count": 212,
   "metadata": {},
   "outputs": [
    {
     "name": "stdout",
     "output_type": "stream",
     "text": [
      "C_β = 0.31\n"
     ]
    },
    {
     "data": {
      "image/png": "[encoded data removed]",
      "text/plain": [
       "<Figure size 432x432 with 1 Axes>"
      ]
     },
     "metadata": {},
     "output_type": "display_data"
    }
   ],
   "source": [
    "\n",
    "\n",
    "print(f'C_β = {nx.average_clustering(G):.2f}')\n",
    "\n",
    "plt.figure(figsize=(6,6))\n",
    "# draw_G(G, pos, withlabels=False, title=model+\" (reduced)\", node_size=20)\n",
    "draw_G(G, pos, withlabels=True, title=model, node_size=20)\n",
    "plt.tight_layout()\n",
    "plt.margins(.15)"
   ]
  },
  {
   "cell_type": "code",
   "execution_count": 221,
   "metadata": {},
   "outputs": [
    {
     "data": {
      "application/vnd.jupyter.widget-view+json": {
       "model_id": "35e70ac889f441cfa61ad191aec25ffa",
       "version_major": 2,
       "version_minor": 0
      },
      "text/plain": [
       "HBox(children=(IntProgress(value=0, max=20), HTML(value='')))"
      ]
     },
     "metadata": {},
     "output_type": "display_data"
    },
    {
     "name": "stdout",
     "output_type": "stream",
     "text": [
      "\n",
      "0 cylinder 4 → crankshaft → cylinder 2 → clutch plate 1\n",
      ".\n",
      ".\n",
      "1 gear 3 → driveshaft → gear 1 → gear 2\n",
      ".\n",
      ".\n",
      "2 driveshaft → bearing inner race → bearing shield → bearing balls\n",
      ".\n",
      ".\n",
      "3 flywheel → crankshaft → cylinder 1 → clutch plate 1\n",
      ".\n",
      ".\n",
      "19 crankshaft → cylinder 3 → flywheel → cylinder 4\n"
     ]
    }
   ],
   "source": [
    "np.random.seed(8)\n",
    "M = sample_censored(G, 20, 4, steps=100)\n"
   ]
  },
  {
   "cell_type": "code",
   "execution_count": 276,
   "metadata": {},
   "outputs": [
    {
     "data": {
      "image/png": "[encoded data removed]",
      "text/plain": [
       "<Figure size 491.839x303.973 with 1 Axes>"
      ]
     },
     "metadata": {},
     "output_type": "display_data"
    }
   ],
   "source": [
    "\n",
    "# from utils.plot_utils import figsize\n",
    "\n",
    "flippos = {k:np.array([-1,1])*v for k,v in pos.items()}\n",
    "# flippos = pos\n",
    "\n",
    "\n",
    "# plt.savefig(latex_path/f'{model}_ivtRW.pdf')\n",
    "#     plt.legend()\n",
    "\n",
    "plot_ivt(G, flippos, M[:4], model, txtpos=.3 )"
   ]
  },
  {
   "cell_type": "code",
   "execution_count": 259,
   "metadata": {},
   "outputs": [
    {
     "data": {
      "application/javascript": [
       "/* Put everything inside the global mpl namespace */\n",
       "window.mpl = {};\n",
       "\n",
       "\n",
       "mpl.get_websocket_type = function() {\n",
       "    if (typeof(WebSocket) !== 'undefined') {\n",
       "        return WebSocket;\n",
       "    } else if (typeof(MozWebSocket) !== 'undefined') {\n",
       "        return MozWebSocket;\n",
       "    } else {\n",
       "        alert('Your browser does not have WebSocket support. ' +\n",
       "              'Please try Chrome, Safari or Firefox ≥ 6. ' +\n",
       "              'Firefox 4 and 5 are also supported but you ' +\n",
       "              'have to enable WebSockets in about:config.');\n",
       "    };\n",
       "}\n",
       "\n",
       "mpl.figure = function(figure_id, websocket, ondownload, parent_element) {\n",
       "    this.id = figure_id;\n",
       "\n",
       "    this.ws = websocket;\n",
       "\n",
       "    this.supports_binary = (this.ws.binaryType != undefined);\n",
       "\n",
       "    if (!this.supports_binary) {\n",
       "        var warnings = document.getElementById(\"mpl-warnings\");\n",
       "        if (warnings) {\n",
       "            warnings.style.display = 'block';\n",
       "            warnings.textContent = (\n",
       "                \"This browser does not support binary websocket messages. \" +\n",
       "                    \"Performance may be slow.\");\n",
       "        }\n",
       "    }\n",
       "\n",
       "    this.imageObj = new Image();\n",
       "\n",
       "    this.context = undefined;\n",
       "    this.message = undefined;\n",
       "    this.canvas = undefined;\n",
       "    this.rubberband_canvas = undefined;\n",
       "    this.rubberband_context = undefined;\n",
       "    this.format_dropdown = undefined;\n",
       "\n",
       "    this.image_mode = 'full';\n",
       "\n",
       "    this.root = $('<div/>');\n",
       "    this._root_extra_style(this.root)\n",
       "    this.root.attr('style', 'display: inline-block');\n",
       "\n",
       "    $(parent_element).append(this.root);\n",
       "\n",
       "    this._init_header(this);\n",
       "    this._init_canvas(this);\n",
       "    this._init_toolbar(this);\n",
       "\n",
       "    var fig = this;\n",
       "\n",
       "    this.waiting = false;\n",
       "\n",
       "    this.ws.onopen =  function () {\n",
       "            fig.send_message(\"supports_binary\", {value: fig.supports_binary});\n",
       "            fig.send_message(\"send_image_mode\", {});\n",
       "            if (mpl.ratio != 1) {\n",
       "                fig.send_message(\"set_dpi_ratio\", {'dpi_ratio': mpl.ratio});\n",
       "            }\n",
       "            fig.send_message(\"refresh\", {});\n",
       "        }\n",
       "\n",
       "    this.imageObj.onload = function() {\n",
       "            if (fig.image_mode == 'full') {\n",
       "                // Full images could contain transparency (where diff images\n",
       "                // almost always do), so we need to clear the canvas so that\n",
       "                // there is no ghosting.\n",
       "                fig.context.clearRect(0, 0, fig.canvas.width, fig.canvas.height);\n",
       "            }\n",
       "            fig.context.drawImage(fig.imageObj, 0, 0);\n",
       "        };\n",
       "\n",
       "    this.imageObj.onunload = function() {\n",
       "        fig.ws.close();\n",
       "    }\n",
       "\n",
       "    this.ws.onmessage = this._make_on_message_function(this);\n",
       "\n",
       "    this.ondownload = ondownload;\n",
       "}\n",
       "\n",
       "mpl.figure.prototype._init_header = function() {\n",
       "    var titlebar = $(\n",
       "        '<div class=\"ui-dialog-titlebar ui-widget-header ui-corner-all ' +\n",
       "        'ui-helper-clearfix\"/>');\n",
       "    var titletext = $(\n",
       "        '<div class=\"ui-dialog-title\" style=\"width: 100%; ' +\n",
       "        'text-align: center; padding: 3px;\"/>');\n",
       "    titlebar.append(titletext)\n",
       "    this.root.append(titlebar);\n",
       "    this.header = titletext[0];\n",
       "}\n",
       "\n",
       "\n",
       "\n",
       "mpl.figure.prototype._canvas_extra_style = function(canvas_div) {\n",
       "\n",
       "}\n",
       "\n",
       "\n",
       "mpl.figure.prototype._root_extra_style = function(canvas_div) {\n",
       "\n",
       "}\n",
       "\n",
       "mpl.figure.prototype._init_canvas = function() {\n",
       "    var fig = this;\n",
       "\n",
       "    var canvas_div = $('<div/>');\n",
       "\n",
       "    canvas_div.attr('style', 'position: relative; clear: both; outline: 0');\n",
       "\n",
       "    function canvas_keyboard_event(event) {\n",
       "        return fig.key_event(event, event['data']);\n",
       "    }\n",
       "\n",
       "    canvas_div.keydown('key_press', canvas_keyboard_event);\n",
       "    canvas_div.keyup('key_release', canvas_keyboard_event);\n",
       "    this.canvas_div = canvas_div\n",
       "    this._canvas_extra_style(canvas_div)\n",
       "    this.root.append(canvas_div);\n",
       "\n",
       "    var canvas = $('<canvas/>');\n",
       "    canvas.addClass('mpl-canvas');\n",
       "    canvas.attr('style', \"left: 0; top: 0; z-index: 0; outline: 0\")\n",
       "\n",
       "    this.canvas = canvas[0];\n",
       "    this.context = canvas[0].getContext(\"2d\");\n",
       "\n",
       "    var backingStore = this.context.backingStorePixelRatio ||\n",
       "\tthis.context.webkitBackingStorePixelRatio ||\n",
       "\tthis.context.mozBackingStorePixelRatio ||\n",
       "\tthis.context.msBackingStorePixelRatio ||\n",
       "\tthis.context.oBackingStorePixelRatio ||\n",
       "\tthis.context.backingStorePixelRatio || 1;\n",
       "\n",
       "    mpl.ratio = (window.devicePixelRatio || 1) / backingStore;\n",
       "\n",
       "    var rubberband = $('<canvas/>');\n",
       "    rubberband.attr('style', \"position: absolute; left: 0; top: 0; z-index: 1;\")\n",
       "\n",
       "    var pass_mouse_events = true;\n",
       "\n",
       "    canvas_div.resizable({\n",
       "        start: function(event, ui) {\n",
       "            pass_mouse_events = false;\n",
       "        },\n",
       "        resize: function(event, ui) {\n",
       "            fig.request_resize(ui.size.width, ui.size.height);\n",
       "        },\n",
       "        stop: function(event, ui) {\n",
       "            pass_mouse_events = true;\n",
       "            fig.request_resize(ui.size.width, ui.size.height);\n",
       "        },\n",
       "    });\n",
       "\n",
       "    function mouse_event_fn(event) {\n",
       "        if (pass_mouse_events)\n",
       "            return fig.mouse_event(event, event['data']);\n",
       "    }\n",
       "\n",
       "    rubberband.mousedown('button_press', mouse_event_fn);\n",
       "    rubberband.mouseup('button_release', mouse_event_fn);\n",
       "    // Throttle sequential mouse events to 1 every 20ms.\n",
       "    rubberband.mousemove('motion_notify', mouse_event_fn);\n",
       "\n",
       "    rubberband.mouseenter('figure_enter', mouse_event_fn);\n",
       "    rubberband.mouseleave('figure_leave', mouse_event_fn);\n",
       "\n",
       "    canvas_div.on(\"wheel\", function (event) {\n",
       "        event = event.originalEvent;\n",
       "        event['data'] = 'scroll'\n",
       "        if (event.deltaY < 0) {\n",
       "            event.step = 1;\n",
       "        } else {\n",
       "            event.step = -1;\n",
       "        }\n",
       "        mouse_event_fn(event);\n",
       "    });\n",
       "\n",
       "    canvas_div.append(canvas);\n",
       "    canvas_div.append(rubberband);\n",
       "\n",
       "    this.rubberband = rubberband;\n",
       "    this.rubberband_canvas = rubberband[0];\n",
       "    this.rubberband_context = rubberband[0].getContext(\"2d\");\n",
       "    this.rubberband_context.strokeStyle = \"#000000\";\n",
       "\n",
       "    this._resize_canvas = function(width, height) {\n",
       "        // Keep the size of the canvas, canvas container, and rubber band\n",
       "        // canvas in synch.\n",
       "        canvas_div.css('width', width)\n",
       "        canvas_div.css('height', height)\n",
       "\n",
       "        canvas.attr('width', width * mpl.ratio);\n",
       "        canvas.attr('height', height * mpl.ratio);\n",
       "        canvas.attr('style', 'width: ' + width + 'px; height: ' + height + 'px;');\n",
       "\n",
       "        rubberband.attr('width', width);\n",
       "        rubberband.attr('height', height);\n",
       "    }\n",
       "\n",
       "    // Set the figure to an initial 600x600px, this will subsequently be updated\n",
       "    // upon first draw.\n",
       "    this._resize_canvas(600, 600);\n",
       "\n",
       "    // Disable right mouse context menu.\n",
       "    $(this.rubberband_canvas).bind(\"contextmenu\",function(e){\n",
       "        return false;\n",
       "    });\n",
       "\n",
       "    function set_focus () {\n",
       "        canvas.focus();\n",
       "        canvas_div.focus();\n",
       "    }\n",
       "\n",
       "    window.setTimeout(set_focus, 100);\n",
       "}\n",
       "\n",
       "mpl.figure.prototype._init_toolbar = function() {\n",
       "    var fig = this;\n",
       "\n",
       "    var nav_element = $('<div/>');\n",
       "    nav_element.attr('style', 'width: 100%');\n",
       "    this.root.append(nav_element);\n",
       "\n",
       "    // Define a callback function for later on.\n",
       "    function toolbar_event(event) {\n",
       "        return fig.toolbar_button_onclick(event['data']);\n",
       "    }\n",
       "    function toolbar_mouse_event(event) {\n",
       "        return fig.toolbar_button_onmouseover(event['data']);\n",
       "    }\n",
       "\n",
       "    for(var toolbar_ind in mpl.toolbar_items) {\n",
       "        var name = mpl.toolbar_items[toolbar_ind][0];\n",
       "        var tooltip = mpl.toolbar_items[toolbar_ind][1];\n",
       "        var image = mpl.toolbar_items[toolbar_ind][2];\n",
       "        var method_name = mpl.toolbar_items[toolbar_ind][3];\n",
       "\n",
       "        if (!name) {\n",
       "            // put a spacer in here.\n",
       "            continue;\n",
       "        }\n",
       "        var button = $('<button/>');\n",
       "        button.addClass('ui-button ui-widget ui-state-default ui-corner-all ' +\n",
       "                        'ui-button-icon-only');\n",
       "        button.attr('role', 'button');\n",
       "        button.attr('aria-disabled', 'false');\n",
       "        button.click(method_name, toolbar_event);\n",
       "        button.mouseover(tooltip, toolbar_mouse_event);\n",
       "\n",
       "        var icon_img = $('<span/>');\n",
       "        icon_img.addClass('ui-button-icon-primary ui-icon');\n",
       "        icon_img.addClass(image);\n",
       "        icon_img.addClass('ui-corner-all');\n",
       "\n",
       "        var tooltip_span = $('<span/>');\n",
       "        tooltip_span.addClass('ui-button-text');\n",
       "        tooltip_span.html(tooltip);\n",
       "\n",
       "        button.append(icon_img);\n",
       "        button.append(tooltip_span);\n",
       "\n",
       "        nav_element.append(button);\n",
       "    }\n",
       "\n",
       "    var fmt_picker_span = $('<span/>');\n",
       "\n",
       "    var fmt_picker = $('<select/>');\n",
       "    fmt_picker.addClass('mpl-toolbar-option ui-widget ui-widget-content');\n",
       "    fmt_picker_span.append(fmt_picker);\n",
       "    nav_element.append(fmt_picker_span);\n",
       "    this.format_dropdown = fmt_picker[0];\n",
       "\n",
       "    for (var ind in mpl.extensions) {\n",
       "        var fmt = mpl.extensions[ind];\n",
       "        var option = $(\n",
       "            '<option/>', {selected: fmt === mpl.default_extension}).html(fmt);\n",
       "        fmt_picker.append(option);\n",
       "    }\n",
       "\n",
       "    // Add hover states to the ui-buttons\n",
       "    $( \".ui-button\" ).hover(\n",
       "        function() { $(this).addClass(\"ui-state-hover\");},\n",
       "        function() { $(this).removeClass(\"ui-state-hover\");}\n",
       "    );\n",
       "\n",
       "    var status_bar = $('<span class=\"mpl-message\"/>');\n",
       "    nav_element.append(status_bar);\n",
       "    this.message = status_bar[0];\n",
       "}\n",
       "\n",
       "mpl.figure.prototype.request_resize = function(x_pixels, y_pixels) {\n",
       "    // Request matplotlib to resize the figure. Matplotlib will then trigger a resize in the client,\n",
       "    // which will in turn request a refresh of the image.\n",
       "    this.send_message('resize', {'width': x_pixels, 'height': y_pixels});\n",
       "}\n",
       "\n",
       "mpl.figure.prototype.send_message = function(type, properties) {\n",
       "    properties['type'] = type;\n",
       "    properties['figure_id'] = this.id;\n",
       "    this.ws.send(JSON.stringify(properties));\n",
       "}\n",
       "\n",
       "mpl.figure.prototype.send_draw_message = function() {\n",
       "    if (!this.waiting) {\n",
       "        this.waiting = true;\n",
       "        this.ws.send(JSON.stringify({type: \"draw\", figure_id: this.id}));\n",
       "    }\n",
       "}\n",
       "\n",
       "\n",
       "mpl.figure.prototype.handle_save = function(fig, msg) {\n",
       "    var format_dropdown = fig.format_dropdown;\n",
       "    var format = format_dropdown.options[format_dropdown.selectedIndex].value;\n",
       "    fig.ondownload(fig, format);\n",
       "}\n",
       "\n",
       "\n",
       "mpl.figure.prototype.handle_resize = function(fig, msg) {\n",
       "    var size = msg['size'];\n",
       "    if (size[0] != fig.canvas.width || size[1] != fig.canvas.height) {\n",
       "        fig._resize_canvas(size[0], size[1]);\n",
       "        fig.send_message(\"refresh\", {});\n",
       "    };\n",
       "}\n",
       "\n",
       "mpl.figure.prototype.handle_rubberband = function(fig, msg) {\n",
       "    var x0 = msg['x0'] / mpl.ratio;\n",
       "    var y0 = (fig.canvas.height - msg['y0']) / mpl.ratio;\n",
       "    var x1 = msg['x1'] / mpl.ratio;\n",
       "    var y1 = (fig.canvas.height - msg['y1']) / mpl.ratio;\n",
       "    x0 = Math.floor(x0) + 0.5;\n",
       "    y0 = Math.floor(y0) + 0.5;\n",
       "    x1 = Math.floor(x1) + 0.5;\n",
       "    y1 = Math.floor(y1) + 0.5;\n",
       "    var min_x = Math.min(x0, x1);\n",
       "    var min_y = Math.min(y0, y1);\n",
       "    var width = Math.abs(x1 - x0);\n",
       "    var height = Math.abs(y1 - y0);\n",
       "\n",
       "    fig.rubberband_context.clearRect(\n",
       "        0, 0, fig.canvas.width / mpl.ratio, fig.canvas.height / mpl.ratio);\n",
       "\n",
       "    fig.rubberband_context.strokeRect(min_x, min_y, width, height);\n",
       "}\n",
       "\n",
       "mpl.figure.prototype.handle_figure_label = function(fig, msg) {\n",
       "    // Updates the figure title.\n",
       "    fig.header.textContent = msg['label'];\n",
       "}\n",
       "\n",
       "mpl.figure.prototype.handle_cursor = function(fig, msg) {\n",
       "    var cursor = msg['cursor'];\n",
       "    switch(cursor)\n",
       "    {\n",
       "    case 0:\n",
       "        cursor = 'pointer';\n",
       "        break;\n",
       "    case 1:\n",
       "        cursor = 'default';\n",
       "        break;\n",
       "    case 2:\n",
       "        cursor = 'crosshair';\n",
       "        break;\n",
       "    case 3:\n",
       "        cursor = 'move';\n",
       "        break;\n",
       "    }\n",
       "    fig.rubberband_canvas.style.cursor = cursor;\n",
       "}\n",
       "\n",
       "mpl.figure.prototype.handle_message = function(fig, msg) {\n",
       "    fig.message.textContent = msg['message'];\n",
       "}\n",
       "\n",
       "mpl.figure.prototype.handle_draw = function(fig, msg) {\n",
       "    // Request the server to send over a new figure.\n",
       "    fig.send_draw_message();\n",
       "}\n",
       "\n",
       "mpl.figure.prototype.handle_image_mode = function(fig, msg) {\n",
       "    fig.image_mode = msg['mode'];\n",
       "}\n",
       "\n",
       "mpl.figure.prototype.updated_canvas_event = function() {\n",
       "    // Called whenever the canvas gets updated.\n",
       "    this.send_message(\"ack\", {});\n",
       "}\n",
       "\n",
       "// A function to construct a web socket function for onmessage handling.\n",
       "// Called in the figure constructor.\n",
       "mpl.figure.prototype._make_on_message_function = function(fig) {\n",
       "    return function socket_on_message(evt) {\n",
       "        if (evt.data instanceof Blob) {\n",
       "            /* FIXME: We get \"Resource interpreted as Image but\n",
       "             * transferred with MIME type text/plain:\" errors on\n",
       "             * Chrome.  But how to set the MIME type?  It doesn't seem\n",
       "             * to be part of the websocket stream */\n",
       "            evt.data.type = \"image/png\";\n",
       "\n",
       "            /* Free the memory for the previous frames */\n",
       "            if (fig.imageObj.src) {\n",
       "                (window.URL || window.webkitURL).revokeObjectURL(\n",
       "                    fig.imageObj.src);\n",
       "            }\n",
       "\n",
       "            fig.imageObj.src = (window.URL || window.webkitURL).createObjectURL(\n",
       "                evt.data);\n",
       "            fig.updated_canvas_event();\n",
       "            fig.waiting = false;\n",
       "            return;\n",
       "        }\n",
       "        else if (typeof evt.data === 'string' && evt.data.slice(0, 21) == \"data:image/png;base64\") {\n",
       "            fig.imageObj.src = evt.data;\n",
       "            fig.updated_canvas_event();\n",
       "            fig.waiting = false;\n",
       "            return;\n",
       "        }\n",
       "\n",
       "        var msg = JSON.parse(evt.data);\n",
       "        var msg_type = msg['type'];\n",
       "\n",
       "        // Call the  \"handle_{type}\" callback, which takes\n",
       "        // the figure and JSON message as its only arguments.\n",
       "        try {\n",
       "            var callback = fig[\"handle_\" + msg_type];\n",
       "        } catch (e) {\n",
       "            console.log(\"No handler for the '\" + msg_type + \"' message type: \", msg);\n",
       "            return;\n",
       "        }\n",
       "\n",
       "        if (callback) {\n",
       "            try {\n",
       "                // console.log(\"Handling '\" + msg_type + \"' message: \", msg);\n",
       "                callback(fig, msg);\n",
       "            } catch (e) {\n",
       "                console.log(\"Exception inside the 'handler_\" + msg_type + \"' callback:\", e, e.stack, msg);\n",
       "            }\n",
       "        }\n",
       "    };\n",
       "}\n",
       "\n",
       "// from http://stackoverflow.com/questions/1114465/getting-mouse-location-in-canvas\n",
       "mpl.findpos = function(e) {\n",
       "    //this section is from http://www.quirksmode.org/js/events_properties.html\n",
       "    var targ;\n",
       "    if (!e)\n",
       "        e = window.event;\n",
       "    if (e.target)\n",
       "        targ = e.target;\n",
       "    else if (e.srcElement)\n",
       "        targ = e.srcElement;\n",
       "    if (targ.nodeType == 3) // defeat Safari bug\n",
       "        targ = targ.parentNode;\n",
       "\n",
       "    // jQuery normalizes the pageX and pageY\n",
       "    // pageX,Y are the mouse positions relative to the document\n",
       "    // offset() returns the position of the element relative to the document\n",
       "    var x = e.pageX - $(targ).offset().left;\n",
       "    var y = e.pageY - $(targ).offset().top;\n",
       "\n",
       "    return {\"x\": x, \"y\": y};\n",
       "};\n",
       "\n",
       "/*\n",
       " * return a copy of an object with only non-object keys\n",
       " * we need this to avoid circular references\n",
       " * http://stackoverflow.com/a/24161582/3208463\n",
       " */\n",
       "function simpleKeys (original) {\n",
       "  return Object.keys(original).reduce(function (obj, key) {\n",
       "    if (typeof original[key] !== 'object')\n",
       "        obj[key] = original[key]\n",
       "    return obj;\n",
       "  }, {});\n",
       "}\n",
       "\n",
       "mpl.figure.prototype.mouse_event = function(event, name) {\n",
       "    var canvas_pos = mpl.findpos(event)\n",
       "\n",
       "    if (name === 'button_press')\n",
       "    {\n",
       "        this.canvas.focus();\n",
       "        this.canvas_div.focus();\n",
       "    }\n",
       "\n",
       "    var x = canvas_pos.x * mpl.ratio;\n",
       "    var y = canvas_pos.y * mpl.ratio;\n",
       "\n",
       "    this.send_message(name, {x: x, y: y, button: event.button,\n",
       "                             step: event.step,\n",
       "                             guiEvent: simpleKeys(event)});\n",
       "\n",
       "    /* This prevents the web browser from automatically changing to\n",
       "     * the text insertion cursor when the button is pressed.  We want\n",
       "     * to control all of the cursor setting manually through the\n",
       "     * 'cursor' event from matplotlib */\n",
       "    event.preventDefault();\n",
       "    return false;\n",
       "}\n",
       "\n",
       "mpl.figure.prototype._key_event_extra = function(event, name) {\n",
       "    // Handle any extra behaviour associated with a key event\n",
       "}\n",
       "\n",
       "mpl.figure.prototype.key_event = function(event, name) {\n",
       "\n",
       "    // Prevent repeat events\n",
       "    if (name == 'key_press')\n",
       "    {\n",
       "        if (event.which === this._key)\n",
       "            return;\n",
       "        else\n",
       "            this._key = event.which;\n",
       "    }\n",
       "    if (name == 'key_release')\n",
       "        this._key = null;\n",
       "\n",
       "    var value = '';\n",
       "    if (event.ctrlKey && event.which != 17)\n",
       "        value += \"ctrl+\";\n",
       "    if (event.altKey && event.which != 18)\n",
       "        value += \"alt+\";\n",
       "    if (event.shiftKey && event.which != 16)\n",
       "        value += \"shift+\";\n",
       "\n",
       "    value += 'k';\n",
       "    value += event.which.toString();\n",
       "\n",
       "    this._key_event_extra(event, name);\n",
       "\n",
       "    this.send_message(name, {key: value,\n",
       "                             guiEvent: simpleKeys(event)});\n",
       "    return false;\n",
       "}\n",
       "\n",
       "mpl.figure.prototype.toolbar_button_onclick = function(name) {\n",
       "    if (name == 'download') {\n",
       "        this.handle_save(this, null);\n",
       "    } else {\n",
       "        this.send_message(\"toolbar_button\", {name: name});\n",
       "    }\n",
       "};\n",
       "\n",
       "mpl.figure.prototype.toolbar_button_onmouseover = function(tooltip) {\n",
       "    this.message.textContent = tooltip;\n",
       "};\n",
       "mpl.toolbar_items = [[\"Home\", \"Reset original view\", \"fa fa-home icon-home\", \"home\"], [\"Back\", \"Back to previous view\", \"fa fa-arrow-left icon-arrow-left\", \"back\"], [\"Forward\", \"Forward to next view\", \"fa fa-arrow-right icon-arrow-right\", \"forward\"], [\"\", \"\", \"\", \"\"], [\"Pan\", \"Pan axes with left mouse, zoom with right\", \"fa fa-arrows icon-move\", \"pan\"], [\"Zoom\", \"Zoom to rectangle\", \"fa fa-square-o icon-check-empty\", \"zoom\"], [\"\", \"\", \"\", \"\"], [\"Download\", \"Download plot\", \"fa fa-floppy-o icon-save\", \"download\"]];\n",
       "\n",
       "mpl.extensions = [\"eps\", \"jpeg\", \"pdf\", \"png\", \"ps\", \"raw\", \"svg\", \"tif\"];\n",
       "\n",
       "mpl.default_extension = \"png\";var comm_websocket_adapter = function(comm) {\n",
       "    // Create a \"websocket\"-like object which calls the given IPython comm\n",
       "    // object with the appropriate methods. Currently this is a non binary\n",
       "    // socket, so there is still some room for performance tuning.\n",
       "    var ws = {};\n",
       "\n",
       "    ws.close = function() {\n",
       "        comm.close()\n",
       "    };\n",
       "    ws.send = function(m) {\n",
       "        //console.log('sending', m);\n",
       "        comm.send(m);\n",
       "    };\n",
       "    // Register the callback with on_msg.\n",
       "    comm.on_msg(function(msg) {\n",
       "        //console.log('receiving', msg['content']['data'], msg);\n",
       "        // Pass the mpl event to the overridden (by mpl) onmessage function.\n",
       "        ws.onmessage(msg['content']['data'])\n",
       "    });\n",
       "    return ws;\n",
       "}\n",
       "\n",
       "mpl.mpl_figure_comm = function(comm, msg) {\n",
       "    // This is the function which gets called when the mpl process\n",
       "    // starts-up an IPython Comm through the \"matplotlib\" channel.\n",
       "\n",
       "    var id = msg.content.data.id;\n",
       "    // Get hold of the div created by the display call when the Comm\n",
       "    // socket was opened in Python.\n",
       "    var element = $(\"#\" + id);\n",
       "    var ws_proxy = comm_websocket_adapter(comm)\n",
       "\n",
       "    function ondownload(figure, format) {\n",
       "        window.open(figure.imageObj.src);\n",
       "    }\n",
       "\n",
       "    var fig = new mpl.figure(id, ws_proxy,\n",
       "                           ondownload,\n",
       "                           element.get(0));\n",
       "\n",
       "    // Call onopen now - mpl needs it, as it is assuming we've passed it a real\n",
       "    // web socket which is closed, not our websocket->open comm proxy.\n",
       "    ws_proxy.onopen();\n",
       "\n",
       "    fig.parent_element = element.get(0);\n",
       "    fig.cell_info = mpl.find_output_cell(\"<div id='\" + id + \"'></div>\");\n",
       "    if (!fig.cell_info) {\n",
       "        console.error(\"Failed to find cell for figure\", id, fig);\n",
       "        return;\n",
       "    }\n",
       "\n",
       "    var output_index = fig.cell_info[2]\n",
       "    var cell = fig.cell_info[0];\n",
       "\n",
       "};\n",
       "\n",
       "mpl.figure.prototype.handle_close = function(fig, msg) {\n",
       "    var width = fig.canvas.width/mpl.ratio\n",
       "    fig.root.unbind('remove')\n",
       "\n",
       "    // Update the output cell to use the data from the current canvas.\n",
       "    fig.push_to_output();\n",
       "    var dataURL = fig.canvas.toDataURL();\n",
       "    // Re-enable the keyboard manager in IPython - without this line, in FF,\n",
       "    // the notebook keyboard shortcuts fail.\n",
       "    IPython.keyboard_manager.enable()\n",
       "    $(fig.parent_element).html('<img src=\"' + dataURL + '\" width=\"' + width + '\">');\n",
       "    fig.close_ws(fig, msg);\n",
       "}\n",
       "\n",
       "mpl.figure.prototype.close_ws = function(fig, msg){\n",
       "    fig.send_message('closing', msg);\n",
       "    // fig.ws.close()\n",
       "}\n",
       "\n",
       "mpl.figure.prototype.push_to_output = function(remove_interactive) {\n",
       "    // Turn the data on the canvas into data in the output cell.\n",
       "    var width = this.canvas.width/mpl.ratio\n",
       "    var dataURL = this.canvas.toDataURL();\n",
       "    this.cell_info[1]['text/html'] = '<img src=\"' + dataURL + '\" width=\"' + width + '\">';\n",
       "}\n",
       "\n",
       "mpl.figure.prototype.updated_canvas_event = function() {\n",
       "    // Tell IPython that the notebook contents must change.\n",
       "    IPython.notebook.set_dirty(true);\n",
       "    this.send_message(\"ack\", {});\n",
       "    var fig = this;\n",
       "    // Wait a second, then push the new image to the DOM so\n",
       "    // that it is saved nicely (might be nice to debounce this).\n",
       "    setTimeout(function () { fig.push_to_output() }, 1000);\n",
       "}\n",
       "\n",
       "mpl.figure.prototype._init_toolbar = function() {\n",
       "    var fig = this;\n",
       "\n",
       "    var nav_element = $('<div/>');\n",
       "    nav_element.attr('style', 'width: 100%');\n",
       "    this.root.append(nav_element);\n",
       "\n",
       "    // Define a callback function for later on.\n",
       "    function toolbar_event(event) {\n",
       "        return fig.toolbar_button_onclick(event['data']);\n",
       "    }\n",
       "    function toolbar_mouse_event(event) {\n",
       "        return fig.toolbar_button_onmouseover(event['data']);\n",
       "    }\n",
       "\n",
       "    for(var toolbar_ind in mpl.toolbar_items){\n",
       "        var name = mpl.toolbar_items[toolbar_ind][0];\n",
       "        var tooltip = mpl.toolbar_items[toolbar_ind][1];\n",
       "        var image = mpl.toolbar_items[toolbar_ind][2];\n",
       "        var method_name = mpl.toolbar_items[toolbar_ind][3];\n",
       "\n",
       "        if (!name) { continue; };\n",
       "\n",
       "        var button = $('<button class=\"btn btn-default\" href=\"#\" title=\"' + name + '\"><i class=\"fa ' + image + ' fa-lg\"></i></button>');\n",
       "        button.click(method_name, toolbar_event);\n",
       "        button.mouseover(tooltip, toolbar_mouse_event);\n",
       "        nav_element.append(button);\n",
       "    }\n",
       "\n",
       "    // Add the status bar.\n",
       "    var status_bar = $('<span class=\"mpl-message\" style=\"text-align:right; float: right;\"/>');\n",
       "    nav_element.append(status_bar);\n",
       "    this.message = status_bar[0];\n",
       "\n",
       "    // Add the close button to the window.\n",
       "    var buttongrp = $('<div class=\"btn-group inline pull-right\"></div>');\n",
       "    var button = $('<button class=\"btn btn-mini btn-primary\" href=\"#\" title=\"Stop Interaction\"><i class=\"fa fa-power-off icon-remove icon-large\"></i></button>');\n",
       "    button.click(function (evt) { fig.handle_close(fig, {}); } );\n",
       "    button.mouseover('Stop Interaction', toolbar_mouse_event);\n",
       "    buttongrp.append(button);\n",
       "    var titlebar = this.root.find($('.ui-dialog-titlebar'));\n",
       "    titlebar.prepend(buttongrp);\n",
       "}\n",
       "\n",
       "mpl.figure.prototype._root_extra_style = function(el){\n",
       "    var fig = this\n",
       "    el.on(\"remove\", function(){\n",
       "\tfig.close_ws(fig, {});\n",
       "    });\n",
       "}\n",
       "\n",
       "mpl.figure.prototype._canvas_extra_style = function(el){\n",
       "    // this is important to make the div 'focusable\n",
       "    el.attr('tabindex', 0)\n",
       "    // reach out to IPython and tell the keyboard manager to turn it's self\n",
       "    // off when our div gets focus\n",
       "\n",
       "    // location in version 3\n",
       "    if (IPython.notebook.keyboard_manager) {\n",
       "        IPython.notebook.keyboard_manager.register_events(el);\n",
       "    }\n",
       "    else {\n",
       "        // location in version 2\n",
       "        IPython.keyboard_manager.register_events(el);\n",
       "    }\n",
       "\n",
       "}\n",
       "\n",
       "mpl.figure.prototype._key_event_extra = function(event, name) {\n",
       "    var manager = IPython.notebook.keyboard_manager;\n",
       "    if (!manager)\n",
       "        manager = IPython.keyboard_manager;\n",
       "\n",
       "    // Check for shift+enter\n",
       "    if (event.shiftKey && event.which == 13) {\n",
       "        this.canvas_div.blur();\n",
       "        event.shiftKey = false;\n",
       "        // Send a \"J\" for go to next cell\n",
       "        event.which = 74;\n",
       "        event.keyCode = 74;\n",
       "        manager.command_mode();\n",
       "        manager.handle_keydown(event);\n",
       "    }\n",
       "}\n",
       "\n",
       "mpl.figure.prototype.handle_save = function(fig, msg) {\n",
       "    fig.ondownload(fig, null);\n",
       "}\n",
       "\n",
       "\n",
       "mpl.find_output_cell = function(html_output) {\n",
       "    // Return the cell and output element which can be found *uniquely* in the notebook.\n",
       "    // Note - this is a bit hacky, but it is done because the \"notebook_saving.Notebook\"\n",
       "    // IPython event is triggered only after the cells have been serialised, which for\n",
       "    // our purposes (turning an active figure into a static one), is too late.\n",
       "    var cells = IPython.notebook.get_cells();\n",
       "    var ncells = cells.length;\n",
       "    for (var i=0; i<ncells; i++) {\n",
       "        var cell = cells[i];\n",
       "        if (cell.cell_type === 'code'){\n",
       "            for (var j=0; j<cell.output_area.outputs.length; j++) {\n",
       "                var data = cell.output_area.outputs[j];\n",
       "                if (data.data) {\n",
       "                    // IPython >= 3 moved mimebundle to data attribute of output\n",
       "                    data = data.data;\n",
       "                }\n",
       "                if (data['text/html'] == html_output) {\n",
       "                    return [cell, data, j];\n",
       "                }\n",
       "            }\n",
       "        }\n",
       "    }\n",
       "}\n",
       "\n",
       "// Register the function which deals with the matplotlib target/channel.\n",
       "// The kernel may be null if the page has been refreshed.\n",
       "if (IPython.notebook.kernel != null) {\n",
       "    IPython.notebook.kernel.comm_manager.register_target('matplotlib', mpl.mpl_figure_comm);\n",
       "}\n"
      ],
      "text/plain": [
       "<IPython.core.display.Javascript object>"
      ]
     },
     "metadata": {},
     "output_type": "display_data"
    },
    {
     "data": {
      "text/html": [
       "<img src=\"data:image/png;base64,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\" width=\"432\">"
      ],
      "text/plain": [
       "<IPython.core.display.HTML object>"
      ]
     },
     "metadata": {},
     "output_type": "display_data"
    },
    {
     "data": {
      "application/vnd.jupyter.widget-view+json": {
       "model_id": "c275cecc85234023bf8b3a22c6ee4962",
       "version_major": 2,
       "version_minor": 0
      },
      "text/plain": [
       "HBox(children=(IntProgress(value=0, description='epoch', max=50, style=ProgressStyle(description_width='initia…"
      ]
     },
     "metadata": {},
     "output_type": "display_data"
    },
    {
     "data": {
      "application/vnd.jupyter.widget-view+json": {
       "model_id": "",
       "version_major": 2,
       "version_minor": 0
      },
      "text/plain": [
       "HBox(children=(IntProgress(value=0, description='sample', max=20, style=ProgressStyle(description_width='initi…"
      ]
     },
     "metadata": {},
     "output_type": "display_data"
    },
    {
     "data": {
      "application/vnd.jupyter.widget-view+json": {
       "model_id": "",
       "version_major": 2,
       "version_minor": 0
      },
      "text/plain": [
       "HBox(children=(IntProgress(value=0, description='sample', max=20, style=ProgressStyle(description_width='initi…"
      ]
     },
     "metadata": {},
     "output_type": "display_data"
    },
    {
     "data": {
      "application/vnd.jupyter.widget-view+json": {
       "model_id": "",
       "version_major": 2,
       "version_minor": 0
      },
      "text/plain": [
       "HBox(children=(IntProgress(value=0, description='sample', max=20, style=ProgressStyle(description_width='initi…"
      ]
     },
     "metadata": {},
     "output_type": "display_data"
    },
    {
     "data": {
      "application/vnd.jupyter.widget-view+json": {
       "model_id": "",
       "version_major": 2,
       "version_minor": 0
      },
      "text/plain": [
       "HBox(children=(IntProgress(value=0, description='sample', max=20, style=ProgressStyle(description_width='initi…"
      ]
     },
     "metadata": {},
     "output_type": "display_data"
    },
    {
     "data": {
      "application/vnd.jupyter.widget-view+json": {
       "model_id": "",
       "version_major": 2,
       "version_minor": 0
      },
      "text/plain": [
       "HBox(children=(IntProgress(value=0, description='sample', max=20, style=ProgressStyle(description_width='initi…"
      ]
     },
     "metadata": {},
     "output_type": "display_data"
    },
    {
     "data": {
      "application/vnd.jupyter.widget-view+json": {
       "model_id": "",
       "version_major": 2,
       "version_minor": 0
      },
      "text/plain": [
       "HBox(children=(IntProgress(value=0, description='sample', max=20, style=ProgressStyle(description_width='initi…"
      ]
     },
     "metadata": {},
     "output_type": "display_data"
    },
    {
     "data": {
      "application/vnd.jupyter.widget-view+json": {
       "model_id": "",
       "version_major": 2,
       "version_minor": 0
      },
      "text/plain": [
       "HBox(children=(IntProgress(value=0, description='sample', max=20, style=ProgressStyle(description_width='initi…"
      ]
     },
     "metadata": {},
     "output_type": "display_data"
    },
    {
     "data": {
      "application/vnd.jupyter.widget-view+json": {
       "model_id": "",
       "version_major": 2,
       "version_minor": 0
      },
      "text/plain": [
       "HBox(children=(IntProgress(value=0, description='sample', max=20, style=ProgressStyle(description_width='initi…"
      ]
     },
     "metadata": {},
     "output_type": "display_data"
    },
    {
     "data": {
      "application/vnd.jupyter.widget-view+json": {
       "model_id": "",
       "version_major": 2,
       "version_minor": 0
      },
      "text/plain": [
       "HBox(children=(IntProgress(value=0, description='sample', max=20, style=ProgressStyle(description_width='initi…"
      ]
     },
     "metadata": {},
     "output_type": "display_data"
    },
    {
     "data": {
      "application/vnd.jupyter.widget-view+json": {
       "model_id": "",
       "version_major": 2,
       "version_minor": 0
      },
      "text/plain": [
       "HBox(children=(IntProgress(value=0, description='sample', max=20, style=ProgressStyle(description_width='initi…"
      ]
     },
     "metadata": {},
     "output_type": "display_data"
    },
    {
     "data": {
      "application/vnd.jupyter.widget-view+json": {
       "model_id": "",
       "version_major": 2,
       "version_minor": 0
      },
      "text/plain": [
       "HBox(children=(IntProgress(value=0, description='sample', max=20, style=ProgressStyle(description_width='initi…"
      ]
     },
     "metadata": {},
     "output_type": "display_data"
    },
    {
     "data": {
      "application/vnd.jupyter.widget-view+json": {
       "model_id": "",
       "version_major": 2,
       "version_minor": 0
      },
      "text/plain": [
       "HBox(children=(IntProgress(value=0, description='sample', max=20, style=ProgressStyle(description_width='initi…"
      ]
     },
     "metadata": {},
     "output_type": "display_data"
    },
    {
     "data": {
      "application/vnd.jupyter.widget-view+json": {
       "model_id": "",
       "version_major": 2,
       "version_minor": 0
      },
      "text/plain": [
       "HBox(children=(IntProgress(value=0, description='sample', max=20, style=ProgressStyle(description_width='initi…"
      ]
     },
     "metadata": {},
     "output_type": "display_data"
    },
    {
     "data": {
      "application/vnd.jupyter.widget-view+json": {
       "model_id": "",
       "version_major": 2,
       "version_minor": 0
      },
      "text/plain": [
       "HBox(children=(IntProgress(value=0, description='sample', max=20, style=ProgressStyle(description_width='initi…"
      ]
     },
     "metadata": {},
     "output_type": "display_data"
    },
    {
     "data": {
      "application/vnd.jupyter.widget-view+json": {
       "model_id": "",
       "version_major": 2,
       "version_minor": 0
      },
      "text/plain": [
       "HBox(children=(IntProgress(value=0, description='sample', max=20, style=ProgressStyle(description_width='initi…"
      ]
     },
     "metadata": {},
     "output_type": "display_data"
    },
    {
     "data": {
      "application/vnd.jupyter.widget-view+json": {
       "model_id": "",
       "version_major": 2,
       "version_minor": 0
      },
      "text/plain": [
       "HBox(children=(IntProgress(value=0, description='sample', max=20, style=ProgressStyle(description_width='initi…"
      ]
     },
     "metadata": {},
     "output_type": "display_data"
    },
    {
     "data": {
      "application/vnd.jupyter.widget-view+json": {
       "model_id": "",
       "version_major": 2,
       "version_minor": 0
      },
      "text/plain": [
       "HBox(children=(IntProgress(value=0, description='sample', max=20, style=ProgressStyle(description_width='initi…"
      ]
     },
     "metadata": {},
     "output_type": "display_data"
    },
    {
     "data": {
      "application/vnd.jupyter.widget-view+json": {
       "model_id": "",
       "version_major": 2,
       "version_minor": 0
      },
      "text/plain": [
       "HBox(children=(IntProgress(value=0, description='sample', max=20, style=ProgressStyle(description_width='initi…"
      ]
     },
     "metadata": {},
     "output_type": "display_data"
    },
    {
     "data": {
      "application/vnd.jupyter.widget-view+json": {
       "model_id": "",
       "version_major": 2,
       "version_minor": 0
      },
      "text/plain": [
       "HBox(children=(IntProgress(value=0, description='sample', max=20, style=ProgressStyle(description_width='initi…"
      ]
     },
     "metadata": {},
     "output_type": "display_data"
    },
    {
     "data": {
      "application/vnd.jupyter.widget-view+json": {
       "model_id": "",
       "version_major": 2,
       "version_minor": 0
      },
      "text/plain": [
       "HBox(children=(IntProgress(value=0, description='sample', max=20, style=ProgressStyle(description_width='initi…"
      ]
     },
     "metadata": {},
     "output_type": "display_data"
    },
    {
     "data": {
      "application/vnd.jupyter.widget-view+json": {
       "model_id": "",
       "version_major": 2,
       "version_minor": 0
      },
      "text/plain": [
       "HBox(children=(IntProgress(value=0, description='sample', max=20, style=ProgressStyle(description_width='initi…"
      ]
     },
     "metadata": {},
     "output_type": "display_data"
    },
    {
     "data": {
      "application/vnd.jupyter.widget-view+json": {
       "model_id": "",
       "version_major": 2,
       "version_minor": 0
      },
      "text/plain": [
       "HBox(children=(IntProgress(value=0, description='sample', max=20, style=ProgressStyle(description_width='initi…"
      ]
     },
     "metadata": {},
     "output_type": "display_data"
    },
    {
     "data": {
      "application/vnd.jupyter.widget-view+json": {
       "model_id": "",
       "version_major": 2,
       "version_minor": 0
      },
      "text/plain": [
       "HBox(children=(IntProgress(value=0, description='sample', max=20, style=ProgressStyle(description_width='initi…"
      ]
     },
     "metadata": {},
     "output_type": "display_data"
    },
    {
     "data": {
      "application/vnd.jupyter.widget-view+json": {
       "model_id": "",
       "version_major": 2,
       "version_minor": 0
      },
      "text/plain": [
       "HBox(children=(IntProgress(value=0, description='sample', max=20, style=ProgressStyle(description_width='initi…"
      ]
     },
     "metadata": {},
     "output_type": "display_data"
    },
    {
     "data": {
      "application/vnd.jupyter.widget-view+json": {
       "model_id": "",
       "version_major": 2,
       "version_minor": 0
      },
      "text/plain": [
       "HBox(children=(IntProgress(value=0, description='sample', max=20, style=ProgressStyle(description_width='initi…"
      ]
     },
     "metadata": {},
     "output_type": "display_data"
    },
    {
     "data": {
      "application/vnd.jupyter.widget-view+json": {
       "model_id": "",
       "version_major": 2,
       "version_minor": 0
      },
      "text/plain": [
       "HBox(children=(IntProgress(value=0, description='sample', max=20, style=ProgressStyle(description_width='initi…"
      ]
     },
     "metadata": {},
     "output_type": "display_data"
    },
    {
     "data": {
      "application/vnd.jupyter.widget-view+json": {
       "model_id": "",
       "version_major": 2,
       "version_minor": 0
      },
      "text/plain": [
       "HBox(children=(IntProgress(value=0, description='sample', max=20, style=ProgressStyle(description_width='initi…"
      ]
     },
     "metadata": {},
     "output_type": "display_data"
    },
    {
     "data": {
      "application/vnd.jupyter.widget-view+json": {
       "model_id": "",
       "version_major": 2,
       "version_minor": 0
      },
      "text/plain": [
       "HBox(children=(IntProgress(value=0, description='sample', max=20, style=ProgressStyle(description_width='initi…"
      ]
     },
     "metadata": {},
     "output_type": "display_data"
    },
    {
     "data": {
      "application/vnd.jupyter.widget-view+json": {
       "model_id": "",
       "version_major": 2,
       "version_minor": 0
      },
      "text/plain": [
       "HBox(children=(IntProgress(value=0, description='sample', max=20, style=ProgressStyle(description_width='initi…"
      ]
     },
     "metadata": {},
     "output_type": "display_data"
    },
    {
     "data": {
      "application/vnd.jupyter.widget-view+json": {
       "model_id": "",
       "version_major": 2,
       "version_minor": 0
      },
      "text/plain": [
       "HBox(children=(IntProgress(value=0, description='sample', max=20, style=ProgressStyle(description_width='initi…"
      ]
     },
     "metadata": {},
     "output_type": "display_data"
    },
    {
     "data": {
      "application/vnd.jupyter.widget-view+json": {
       "model_id": "",
       "version_major": 2,
       "version_minor": 0
      },
      "text/plain": [
       "HBox(children=(IntProgress(value=0, description='sample', max=20, style=ProgressStyle(description_width='initi…"
      ]
     },
     "metadata": {},
     "output_type": "display_data"
    },
    {
     "data": {
      "application/vnd.jupyter.widget-view+json": {
       "model_id": "",
       "version_major": 2,
       "version_minor": 0
      },
      "text/plain": [
       "HBox(children=(IntProgress(value=0, description='sample', max=20, style=ProgressStyle(description_width='initi…"
      ]
     },
     "metadata": {},
     "output_type": "display_data"
    },
    {
     "data": {
      "application/vnd.jupyter.widget-view+json": {
       "model_id": "",
       "version_major": 2,
       "version_minor": 0
      },
      "text/plain": [
       "HBox(children=(IntProgress(value=0, description='sample', max=20, style=ProgressStyle(description_width='initi…"
      ]
     },
     "metadata": {},
     "output_type": "display_data"
    },
    {
     "data": {
      "application/vnd.jupyter.widget-view+json": {
       "model_id": "",
       "version_major": 2,
       "version_minor": 0
      },
      "text/plain": [
       "HBox(children=(IntProgress(value=0, description='sample', max=20, style=ProgressStyle(description_width='initi…"
      ]
     },
     "metadata": {},
     "output_type": "display_data"
    },
    {
     "data": {
      "application/vnd.jupyter.widget-view+json": {
       "model_id": "",
       "version_major": 2,
       "version_minor": 0
      },
      "text/plain": [
       "HBox(children=(IntProgress(value=0, description='sample', max=20, style=ProgressStyle(description_width='initi…"
      ]
     },
     "metadata": {},
     "output_type": "display_data"
    },
    {
     "data": {
      "application/vnd.jupyter.widget-view+json": {
       "model_id": "",
       "version_major": 2,
       "version_minor": 0
      },
      "text/plain": [
       "HBox(children=(IntProgress(value=0, description='sample', max=20, style=ProgressStyle(description_width='initi…"
      ]
     },
     "metadata": {},
     "output_type": "display_data"
    },
    {
     "data": {
      "application/vnd.jupyter.widget-view+json": {
       "model_id": "",
       "version_major": 2,
       "version_minor": 0
      },
      "text/plain": [
       "HBox(children=(IntProgress(value=0, description='sample', max=20, style=ProgressStyle(description_width='initi…"
      ]
     },
     "metadata": {},
     "output_type": "display_data"
    },
    {
     "data": {
      "application/vnd.jupyter.widget-view+json": {
       "model_id": "",
       "version_major": 2,
       "version_minor": 0
      },
      "text/plain": [
       "HBox(children=(IntProgress(value=0, description='sample', max=20, style=ProgressStyle(description_width='initi…"
      ]
     },
     "metadata": {},
     "output_type": "display_data"
    },
    {
     "data": {
      "application/vnd.jupyter.widget-view+json": {
       "model_id": "",
       "version_major": 2,
       "version_minor": 0
      },
      "text/plain": [
       "HBox(children=(IntProgress(value=0, description='sample', max=20, style=ProgressStyle(description_width='initi…"
      ]
     },
     "metadata": {},
     "output_type": "display_data"
    },
    {
     "data": {
      "application/vnd.jupyter.widget-view+json": {
       "model_id": "",
       "version_major": 2,
       "version_minor": 0
      },
      "text/plain": [
       "HBox(children=(IntProgress(value=0, description='sample', max=20, style=ProgressStyle(description_width='initi…"
      ]
     },
     "metadata": {},
     "output_type": "display_data"
    },
    {
     "data": {
      "application/vnd.jupyter.widget-view+json": {
       "model_id": "",
       "version_major": 2,
       "version_minor": 0
      },
      "text/plain": [
       "HBox(children=(IntProgress(value=0, description='sample', max=20, style=ProgressStyle(description_width='initi…"
      ]
     },
     "metadata": {},
     "output_type": "display_data"
    },
    {
     "data": {
      "application/vnd.jupyter.widget-view+json": {
       "model_id": "",
       "version_major": 2,
       "version_minor": 0
      },
      "text/plain": [
       "HBox(children=(IntProgress(value=0, description='sample', max=20, style=ProgressStyle(description_width='initi…"
      ]
     },
     "metadata": {},
     "output_type": "display_data"
    },
    {
     "data": {
      "application/vnd.jupyter.widget-view+json": {
       "model_id": "",
       "version_major": 2,
       "version_minor": 0
      },
      "text/plain": [
       "HBox(children=(IntProgress(value=0, description='sample', max=20, style=ProgressStyle(description_width='initi…"
      ]
     },
     "metadata": {},
     "output_type": "display_data"
    },
    {
     "data": {
      "application/vnd.jupyter.widget-view+json": {
       "model_id": "",
       "version_major": 2,
       "version_minor": 0
      },
      "text/plain": [
       "HBox(children=(IntProgress(value=0, description='sample', max=20, style=ProgressStyle(description_width='initi…"
      ]
     },
     "metadata": {},
     "output_type": "display_data"
    },
    {
     "data": {
      "application/vnd.jupyter.widget-view+json": {
       "model_id": "",
       "version_major": 2,
       "version_minor": 0
      },
      "text/plain": [
       "HBox(children=(IntProgress(value=0, description='sample', max=20, style=ProgressStyle(description_width='initi…"
      ]
     },
     "metadata": {},
     "output_type": "display_data"
    },
    {
     "data": {
      "application/vnd.jupyter.widget-view+json": {
       "model_id": "",
       "version_major": 2,
       "version_minor": 0
      },
      "text/plain": [
       "HBox(children=(IntProgress(value=0, description='sample', max=20, style=ProgressStyle(description_width='initi…"
      ]
     },
     "metadata": {},
     "output_type": "display_data"
    },
    {
     "data": {
      "application/vnd.jupyter.widget-view+json": {
       "model_id": "",
       "version_major": 2,
       "version_minor": 0
      },
      "text/plain": [
       "HBox(children=(IntProgress(value=0, description='sample', max=20, style=ProgressStyle(description_width='initi…"
      ]
     },
     "metadata": {},
     "output_type": "display_data"
    },
    {
     "data": {
      "application/vnd.jupyter.widget-view+json": {
       "model_id": "",
       "version_major": 2,
       "version_minor": 0
      },
      "text/plain": [
       "HBox(children=(IntProgress(value=0, description='sample', max=20, style=ProgressStyle(description_width='initi…"
      ]
     },
     "metadata": {},
     "output_type": "display_data"
    },
    {
     "data": {
      "application/vnd.jupyter.widget-view+json": {
       "model_id": "",
       "version_major": 2,
       "version_minor": 0
      },
      "text/plain": [
       "HBox(children=(IntProgress(value=0, description='sample', max=20, style=ProgressStyle(description_width='initi…"
      ]
     },
     "metadata": {},
     "output_type": "display_data"
    },
    {
     "data": {
      "application/vnd.jupyter.widget-view+json": {
       "model_id": "",
       "version_major": 2,
       "version_minor": 0
      },
      "text/plain": [
       "HBox(children=(IntProgress(value=0, description='sample', max=20, style=ProgressStyle(description_width='initi…"
      ]
     },
     "metadata": {},
     "output_type": "display_data"
    },
    {
     "name": "stdout",
     "output_type": "stream",
     "text": [
      "\n"
     ]
    }
   ],
   "source": [
    "%matplotlib notebook\n",
    "\n",
    "N = struct.shape[0]\n",
    "approx = CensoredRW(N, sym=True)\n",
    "\n",
    "\n",
    "learning_rate = 0.1\n",
    "\n",
    "train(approx, np.array(M), compare_true=A,\n",
    "      epochs=50, callback=True, lr=learning_rate)\n",
    "\n",
    "%matplotlib inline"
   ]
  },
  {
   "cell_type": "code",
   "execution_count": 145,
   "metadata": {},
   "outputs": [],
   "source": [
    "\n",
    "\n",
    "res = fill_diagonal(approx.P.detach().cpu().numpy(), 0)\n",
    "\n",
    "prep = lambda A: labeled_adj(struct.columns, minmax(symmetrize(A)))\n",
    "\n",
    "mkv1 = markov_model(M, k=1)\n",
    "mkv2 = markov_model(M, k=2)\n",
    "cos = cosine_model(M)\n",
    "\n",
    "models = dict(\n",
    "    INVITE = prep(res), \n",
    "    Cosine =  prep(cos), \n",
    "    MC1 =     prep(mkv1), \n",
    "    MC2 =     prep(mkv2),\n",
    ")"
   ]
  },
  {
   "cell_type": "code",
   "execution_count": 275,
   "metadata": {},
   "outputs": [
    {
     "data": {
      "image/png": "[encoded data removed]",
      "text/plain": [
       "<Figure size 288x360 with 1 Axes>"
      ]
     },
     "metadata": {
      "needs_background": "light"
     },
     "output_type": "display_data"
    }
   ],
   "source": [
    "\n",
    "log = test_multi(A, **models)\n",
    "\n",
    "compare_pvr(A, log)"
   ]
  },
  {
   "cell_type": "code",
   "execution_count": 147,
   "metadata": {},
   "outputs": [
    {
     "data": {
      "image/png": "[encoded data removed]",
      "text/plain": [
       "<Figure size 491.839x303.973 with 10 Axes>"
      ]
     },
     "metadata": {
      "needs_background": "light"
     },
     "output_type": "display_data"
    }
   ],
   "source": [
    "fig = plt.figure(figsize=figsize(columns=2))\n",
    "compare_mats(\n",
    "    A, \n",
    "#     labels=struct.columns,\n",
    "    **models\n",
    ")"
   ]
  },
  {
   "cell_type": "code",
   "execution_count": 148,
   "metadata": {},
   "outputs": [
    {
     "data": {
      "image/png": "[encoded data removed]",
      "text/plain": [
       "<Figure size 432x288 with 1 Axes>"
      ]
     },
     "metadata": {
      "needs_background": "light"
     },
     "output_type": "display_data"
    }
   ],
   "source": [
    "custom_cycler = (cycler(color=sns.color_palette(n_colors=4)) +\n",
    "                 cycler(ls=['-', ':', '--', '-.']))\n",
    "\n",
    "# f, ax = plt.subplots(fig)\n",
    "for name, d in log.items():\n",
    "    plt.plot(d['t'], d['f'], label=name)\n",
    "    plt.legend(loc=0)\n",
    "    plt.xlabel('Threshold')\n",
    "    plt.ylabel('$F_1$-score')\n",
    "    plt.xlim(0,1)\n",
    "sns.despine()"
   ]
  },
  {
   "cell_type": "markdown",
   "metadata": {},
   "source": [
    "this figure helps us qualitatively understand how the 3 different models are making errors in a locality\n",
    "\n",
    "what can I generalize?\n",
    "\n",
    "help the readers assess what kinds of problems"
   ]
  },
  {
   "cell_type": "code",
   "execution_count": 262,
   "metadata": {},
   "outputs": [
    {
     "data": {
      "image/png": "[encoded data removed]",
      "text/plain": [
       "<Figure size 432x288 with 1 Axes>"
      ]
     },
     "metadata": {},
     "output_type": "display_data"
    },
    {
     "data": {
      "image/png": "[encoded data removed]",
      "text/plain": [
       "<Figure size 432x288 with 1 Axes>"
      ]
     },
     "metadata": {},
     "output_type": "display_data"
    },
    {
     "data": {
      "image/png": "[encoded data removed]",
      "text/plain": [
       "<Figure size 432x288 with 1 Axes>"
      ]
     },
     "metadata": {},
     "output_type": "display_data"
    },
    {
     "data": {
      "image/png": "[encoded data removed]",
      "text/plain": [
       "<Figure size 432x288 with 1 Axes>"
      ]
     },
     "metadata": {},
     "output_type": "display_data"
    }
   ],
   "source": [
    "def thres_graph(G, pos, A_thres, name):\n",
    "    A = nx.to_numpy_array(G)\n",
    "\n",
    "    f = plt.figure(figsize=(6,4))\n",
    "    in_approx     = nx.from_numpy_array(A_thres - A > 0, create_using=nx.DiGraph)\n",
    "    not_in_approx = nx.from_numpy_array(A - A_thres > 0, create_using=nx.DiGraph)\n",
    "#         print((d['thres'] - A > 0).sum(), (A - d['thres'] > 0).sum())\n",
    "    draw_G(G, pos, fp=in_approx, fn=not_in_approx, \n",
    "           node_size=20, withlabels=True,\n",
    "           font_size=pu.label_size(), font_family='serif',\n",
    "           legend=False)\n",
    "    plt.title(name)\n",
    "    return f\n",
    "for name, d in log.items():\n",
    "    thres_graph(G, flippos, d['thres'], name)"
   ]
  },
  {
   "cell_type": "code",
   "execution_count": null,
   "metadata": {},
   "outputs": [],
   "source": []
  }
 ],
 "metadata": {
  "kernelspec": {
   "display_name": "Python 3",
   "language": "python",
   "name": "python3"
  },
  "language_info": {
   "codemirror_mode": {
    "name": "ipython",
    "version": 3
   },
   "file_extension": ".py",
   "mimetype": "text/x-python",
   "name": "python",
   "nbconvert_exporter": "python",
   "pygments_lexer": "ipython3",
   "version": "3.6.7"
  },
  "varInspector": {
   "cols": {
    "lenName": 16,
    "lenType": 16,
    "lenVar": 40
   },
   "kernels_config": {
    "python": {
     "delete_cmd_postfix": "",
     "delete_cmd_prefix": "del ",
     "library": "var_list.py",
     "varRefreshCmd": "print(var_dic_list())"
    },
    "r": {
     "delete_cmd_postfix": ") ",
     "delete_cmd_prefix": "rm(",
     "library": "var_list.r",
     "varRefreshCmd": "cat(var_dic_list()) "
    }
   },
   "types_to_exclude": [
    "module",
    "function",
    "builtin_function_or_method",
    "instance",
    "_Feature"
   ],
   "window_display": false
  }
 },
 "nbformat": 4,
 "nbformat_minor": 2
}
